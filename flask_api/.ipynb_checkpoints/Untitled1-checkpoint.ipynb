{
 "cells": [
  {
   "cell_type": "code",
   "execution_count": 1,
   "metadata": {},
   "outputs": [],
   "source": [
    "import requests\n",
    "import pandas as pd\n",
    "import numpy as np"
   ]
  },
  {
   "cell_type": "code",
   "execution_count": 2,
   "metadata": {},
   "outputs": [
    {
     "data": {
      "text/html": [
       "<div>\n",
       "<style scoped>\n",
       "    .dataframe tbody tr th:only-of-type {\n",
       "        vertical-align: middle;\n",
       "    }\n",
       "\n",
       "    .dataframe tbody tr th {\n",
       "        vertical-align: top;\n",
       "    }\n",
       "\n",
       "    .dataframe thead th {\n",
       "        text-align: right;\n",
       "    }\n",
       "</style>\n",
       "<table border=\"1\" class=\"dataframe\">\n",
       "  <thead>\n",
       "    <tr style=\"text-align: right;\">\n",
       "      <th></th>\n",
       "      <th>Topic</th>\n",
       "      <th>Sentiment</th>\n",
       "      <th>TweetId</th>\n",
       "      <th>TweetDate</th>\n",
       "      <th>TweetText</th>\n",
       "    </tr>\n",
       "  </thead>\n",
       "  <tbody>\n",
       "    <tr>\n",
       "      <th>0</th>\n",
       "      <td>apple</td>\n",
       "      <td>positive</td>\n",
       "      <td>126415614616154112</td>\n",
       "      <td>Tue Oct 18 21:53:25 +0000 2011</td>\n",
       "      <td>Now all @Apple has to do is get swype on the i...</td>\n",
       "    </tr>\n",
       "    <tr>\n",
       "      <th>1</th>\n",
       "      <td>apple</td>\n",
       "      <td>positive</td>\n",
       "      <td>126404574230740992</td>\n",
       "      <td>Tue Oct 18 21:09:33 +0000 2011</td>\n",
       "      <td>@Apple will be adding more carrier support to ...</td>\n",
       "    </tr>\n",
       "    <tr>\n",
       "      <th>2</th>\n",
       "      <td>apple</td>\n",
       "      <td>positive</td>\n",
       "      <td>126402758403305474</td>\n",
       "      <td>Tue Oct 18 21:02:20 +0000 2011</td>\n",
       "      <td>Hilarious @youtube video - guy does a duet wit...</td>\n",
       "    </tr>\n",
       "    <tr>\n",
       "      <th>3</th>\n",
       "      <td>apple</td>\n",
       "      <td>positive</td>\n",
       "      <td>126397179614068736</td>\n",
       "      <td>Tue Oct 18 20:40:10 +0000 2011</td>\n",
       "      <td>@RIM you made it too easy for me to switch to ...</td>\n",
       "    </tr>\n",
       "    <tr>\n",
       "      <th>4</th>\n",
       "      <td>apple</td>\n",
       "      <td>positive</td>\n",
       "      <td>126395626979196928</td>\n",
       "      <td>Tue Oct 18 20:34:00 +0000 2011</td>\n",
       "      <td>I just realized that the reason I got into twi...</td>\n",
       "    </tr>\n",
       "  </tbody>\n",
       "</table>\n",
       "</div>"
      ],
      "text/plain": [
       "   Topic Sentiment             TweetId                       TweetDate  \\\n",
       "0  apple  positive  126415614616154112  Tue Oct 18 21:53:25 +0000 2011   \n",
       "1  apple  positive  126404574230740992  Tue Oct 18 21:09:33 +0000 2011   \n",
       "2  apple  positive  126402758403305474  Tue Oct 18 21:02:20 +0000 2011   \n",
       "3  apple  positive  126397179614068736  Tue Oct 18 20:40:10 +0000 2011   \n",
       "4  apple  positive  126395626979196928  Tue Oct 18 20:34:00 +0000 2011   \n",
       "\n",
       "                                           TweetText  \n",
       "0  Now all @Apple has to do is get swype on the i...  \n",
       "1  @Apple will be adding more carrier support to ...  \n",
       "2  Hilarious @youtube video - guy does a duet wit...  \n",
       "3  @RIM you made it too easy for me to switch to ...  \n",
       "4  I just realized that the reason I got into twi...  "
      ]
     },
     "execution_count": 2,
     "metadata": {},
     "output_type": "execute_result"
    }
   ],
   "source": [
    "tweet = pd.read_csv(\"./full-corpus.csv\")\n",
    "tweet.head()"
   ]
  },
  {
   "cell_type": "code",
   "execution_count": 3,
   "metadata": {},
   "outputs": [
    {
     "data": {
      "text/html": [
       "<div>\n",
       "<style scoped>\n",
       "    .dataframe tbody tr th:only-of-type {\n",
       "        vertical-align: middle;\n",
       "    }\n",
       "\n",
       "    .dataframe tbody tr th {\n",
       "        vertical-align: top;\n",
       "    }\n",
       "\n",
       "    .dataframe thead th {\n",
       "        text-align: right;\n",
       "    }\n",
       "</style>\n",
       "<table border=\"1\" class=\"dataframe\">\n",
       "  <thead>\n",
       "    <tr style=\"text-align: right;\">\n",
       "      <th></th>\n",
       "      <th>Topic</th>\n",
       "      <th>Sentiment</th>\n",
       "      <th>TweetId</th>\n",
       "      <th>TweetDate</th>\n",
       "      <th>TweetText</th>\n",
       "      <th>text</th>\n",
       "    </tr>\n",
       "  </thead>\n",
       "  <tbody>\n",
       "    <tr>\n",
       "      <th>0</th>\n",
       "      <td>apple</td>\n",
       "      <td>positive</td>\n",
       "      <td>126415614616154112</td>\n",
       "      <td>Tue Oct 18 21:53:25 +0000 2011</td>\n",
       "      <td>Now all @Apple has to do is get swype on the i...</td>\n",
       "      <td>Now all Apple has to do is get swype on the ip...</td>\n",
       "    </tr>\n",
       "    <tr>\n",
       "      <th>1</th>\n",
       "      <td>apple</td>\n",
       "      <td>positive</td>\n",
       "      <td>126404574230740992</td>\n",
       "      <td>Tue Oct 18 21:09:33 +0000 2011</td>\n",
       "      <td>@Apple will be adding more carrier support to ...</td>\n",
       "      <td>Apple will be adding more carrier support to t...</td>\n",
       "    </tr>\n",
       "    <tr>\n",
       "      <th>2</th>\n",
       "      <td>apple</td>\n",
       "      <td>positive</td>\n",
       "      <td>126402758403305474</td>\n",
       "      <td>Tue Oct 18 21:02:20 +0000 2011</td>\n",
       "      <td>Hilarious @youtube video - guy does a duet wit...</td>\n",
       "      <td>Hilarious youtube video  guy does a duet with ...</td>\n",
       "    </tr>\n",
       "    <tr>\n",
       "      <th>3</th>\n",
       "      <td>apple</td>\n",
       "      <td>positive</td>\n",
       "      <td>126397179614068736</td>\n",
       "      <td>Tue Oct 18 20:40:10 +0000 2011</td>\n",
       "      <td>@RIM you made it too easy for me to switch to ...</td>\n",
       "      <td>RIM you made it too easy for me to switch to A...</td>\n",
       "    </tr>\n",
       "    <tr>\n",
       "      <th>4</th>\n",
       "      <td>apple</td>\n",
       "      <td>positive</td>\n",
       "      <td>126395626979196928</td>\n",
       "      <td>Tue Oct 18 20:34:00 +0000 2011</td>\n",
       "      <td>I just realized that the reason I got into twi...</td>\n",
       "      <td>I just realized that the reason I got into twi...</td>\n",
       "    </tr>\n",
       "  </tbody>\n",
       "</table>\n",
       "</div>"
      ],
      "text/plain": [
       "   Topic Sentiment             TweetId                       TweetDate  \\\n",
       "0  apple  positive  126415614616154112  Tue Oct 18 21:53:25 +0000 2011   \n",
       "1  apple  positive  126404574230740992  Tue Oct 18 21:09:33 +0000 2011   \n",
       "2  apple  positive  126402758403305474  Tue Oct 18 21:02:20 +0000 2011   \n",
       "3  apple  positive  126397179614068736  Tue Oct 18 20:40:10 +0000 2011   \n",
       "4  apple  positive  126395626979196928  Tue Oct 18 20:34:00 +0000 2011   \n",
       "\n",
       "                                           TweetText  \\\n",
       "0  Now all @Apple has to do is get swype on the i...   \n",
       "1  @Apple will be adding more carrier support to ...   \n",
       "2  Hilarious @youtube video - guy does a duet wit...   \n",
       "3  @RIM you made it too easy for me to switch to ...   \n",
       "4  I just realized that the reason I got into twi...   \n",
       "\n",
       "                                                text  \n",
       "0  Now all Apple has to do is get swype on the ip...  \n",
       "1  Apple will be adding more carrier support to t...  \n",
       "2  Hilarious youtube video  guy does a duet with ...  \n",
       "3  RIM you made it too easy for me to switch to A...  \n",
       "4  I just realized that the reason I got into twi...  "
      ]
     },
     "execution_count": 3,
     "metadata": {},
     "output_type": "execute_result"
    }
   ],
   "source": [
    "import string\n",
    "import re\n",
    "def remove_punct(text):\n",
    "    text  = \"\".join([char for char in text if char not in string.punctuation])\n",
    "    text = re.sub('[0-9]+', '', text)\n",
    "    text = re.sub(\"(@[A-Za-z0-9]+)|([^0-9A-Za-z \\t])|(\\w+:\\/\\/\\S+)\",\" \",text)\n",
    "    text = re.sub(\"(#[A-Za-z0-9]+)|([^0-9A-Za-z \\t])|(\\w+:\\/\\/\\S+)\",\" \",text)\n",
    "    return text\n",
    "\n",
    "tweet['text'] = tweet['TweetText'].apply(lambda x: remove_punct(x))\n",
    "tweet.head()"
   ]
  },
  {
   "cell_type": "code",
   "execution_count": 4,
   "metadata": {},
   "outputs": [],
   "source": [
    "pos = tweet[['Sentiment','TweetText','text']][tweet['Sentiment']==\"positive\"]\n",
    "neg = tweet[['Sentiment','TweetText','text']][tweet['Sentiment']==\"negative\"]\n",
    "pos.index=range(0,len(pos))\n",
    "neg.index=range(0,len(neg))"
   ]
  },
  {
   "cell_type": "code",
   "execution_count": 5,
   "metadata": {},
   "outputs": [
    {
     "data": {
      "application/vnd.jupyter.widget-view+json": {
       "model_id": "0e7ad36cc6d340efb69dc7dfbbb272a6",
       "version_major": 2,
       "version_minor": 0
      },
      "text/plain": [
       "HBox(children=(FloatProgress(value=0.0, description='Downloading', max=442.0, style=ProgressStyle(description_…"
      ]
     },
     "metadata": {},
     "output_type": "display_data"
    },
    {
     "name": "stdout",
     "output_type": "stream",
     "text": [
      "\n"
     ]
    },
    {
     "data": {
      "application/vnd.jupyter.widget-view+json": {
       "model_id": "fb230403ae1e4c1eb88013c2bebd453a",
       "version_major": 2,
       "version_minor": 0
      },
      "text/plain": [
       "HBox(children=(FloatProgress(value=0.0, description='Downloading', max=231508.0, style=ProgressStyle(descripti…"
      ]
     },
     "metadata": {},
     "output_type": "display_data"
    },
    {
     "name": "stdout",
     "output_type": "stream",
     "text": [
      "\n"
     ]
    },
    {
     "data": {
      "application/vnd.jupyter.widget-view+json": {
       "model_id": "34e5df1faa474fa2b13b472549589040",
       "version_major": 2,
       "version_minor": 0
      },
      "text/plain": [
       "HBox(children=(FloatProgress(value=0.0, description='Downloading', max=629.0, style=ProgressStyle(description_…"
      ]
     },
     "metadata": {},
     "output_type": "display_data"
    },
    {
     "name": "stdout",
     "output_type": "stream",
     "text": [
      "\n"
     ]
    },
    {
     "data": {
      "application/vnd.jupyter.widget-view+json": {
       "model_id": "875af9af1a7349ac97645c7ced7a4a59",
       "version_major": 2,
       "version_minor": 0
      },
      "text/plain": [
       "HBox(children=(FloatProgress(value=0.0, description='Downloading', max=230.0, style=ProgressStyle(description_…"
      ]
     },
     "metadata": {},
     "output_type": "display_data"
    },
    {
     "name": "stdout",
     "output_type": "stream",
     "text": [
      "\n"
     ]
    },
    {
     "data": {
      "application/vnd.jupyter.widget-view+json": {
       "model_id": "f190ed77e5e042baac641cd21eca259a",
       "version_major": 2,
       "version_minor": 0
      },
      "text/plain": [
       "HBox(children=(FloatProgress(value=0.0, description='Downloading', max=267844284.0, style=ProgressStyle(descri…"
      ]
     },
     "metadata": {},
     "output_type": "display_data"
    },
    {
     "name": "stdout",
     "output_type": "stream",
     "text": [
      "\n"
     ]
    }
   ],
   "source": [
    "from transformers import pipeline\n",
    "\n",
    "nlp = pipeline(\"sentiment-analysis\")"
   ]
  },
  {
   "cell_type": "code",
   "execution_count": 6,
   "metadata": {},
   "outputs": [
    {
     "data": {
      "text/plain": [
       "[{'label': 'POSITIVE', 'score': 0.9490495}]"
      ]
     },
     "execution_count": 6,
     "metadata": {},
     "output_type": "execute_result"
    }
   ],
   "source": [
    "a=nlp(pos['text'][0])\n",
    "a"
   ]
  },
  {
   "cell_type": "code",
   "execution_count": 14,
   "metadata": {},
   "outputs": [
    {
     "name": "stdout",
     "output_type": "stream",
     "text": [
      "Apple will be adding more carrier support to the iPhone S just announced 0.9759092\n",
      "RIM you made it too easy for me to switch to Apple iPhone See ya 0.9903883\n",
      "Im a current Blackberry user little bit disappointed with it Should I move to Android or Apple iphone 0.99935263\n",
      "Just apply for a job at Apple hope they call me lol 0.9207376\n",
      "RT PhillipRowntree Just registered as an apple developer Heres hoping I can actually do it Any help greatly appreciated 0.9870106\n",
      "Just registered as an apple developer Heres hoping I can actually do it Any help greatly appreciated 0.8901487\n",
      "    Currently learning Mandarin for my upcoming trip to Hong Kong I gotta hand it to Apple iPhones  their uber useful flashcard apps     0.8107131\n",
      "Come to the dark side   gretcheneclark Hey apple if you send me a free iPhone I will publicly and ceremoniously burn my BlackBerry  0.9896368\n",
      "Hey apple if you send me a free iPhone any version will do I will publicly and ceremoniously burn my BlackBerry 0.9952098\n",
      "Thank you apple for Find My Mac  just located and wiped my stolen Air smallvictory thievingbastards 0.8996934\n",
      "iPads Replace Bound Playbooks on Some NFL Teams httptcoUXAWKwf apple nytimes 0.99741465\n",
      "applegood ipad 0.50757146\n",
      "When you want something done right you do it yourself or go to Apple ATT youre useless these days yourdaysarenumbered      0.9995233\n",
      "  RT Apple No question bro RT AintEeenTrippin Should I get dis iPhone or a EVO D 0.9914788\n",
      "Twitter CEO points to Apple as corporate mentor as iOS signups triple httptcoGCYiphN 0.8240576\n",
      "At the bus with my iPhone  thxx apple 0.9797235\n",
      "NYTimes Coach Wants to See You And Bring Your iPad httptcoJFTiEnG iPad apple set red  red  hut hut NFL wish I had an iPad 0.80620444\n",
      "blackberry is like the Titanic and it seems everyone is running for the apple iPhone life rafts and there wont be enough for everyone 0.9959761\n",
      "bkad than apologize to apple  0.9837972\n",
      "Lmfao look at the argument I had with Siri  ijustine apple httptcoDVjLSI 0.92814595\n",
      "Save me from HPs unwanted OS Help me buy an iPhone I have seen the light lol httptcogUPAcz backchannel apple 0.9980448\n",
      "Well apple fixed my ios battery drain problem with a replacement iPhone   its working like a champ now 0.998792\n",
      "Currently ordering a BRAND NEW MACBOOK PRO Bahhh my MacBook is  years old Ill miss it But its time cc Apple  0.9987455\n",
      "loving new technology from apple iPhone s mac air and iCloud are unreal technology 0.9556711\n",
      "Time to go get my iPhone s  Looking forward to sticking it to the man by no longer paying for most texts  Thanks apple 0.99671596\n",
      "hey apple I hate my computer i need a mack wanna send me a free one 0.9981234\n",
      "Is it just me or is iOS faster for the iPad apple 0.98926765\n",
      "making the switch from Android to Apple iphone iphoneS smartphone stevejobs  Apple Store httptcokjpJvkH 0.97716653\n",
      "New macbook is too sick apple 0.9997407\n",
      "So yeah apple iOS readinglists have changed my life nowicanspendevenmoretimeonmyphone 0.9745068\n",
      "I love apple service  My case has cracked x and I go in and they hand me a case and I walk out 0.9947011\n",
      "Said to have laid out the next  years appleJobs last iPhone is  not the iPhoneS iPhoneG  is magical httptcoDxxklUBp 0.9960884\n",
      "i used to be with blackberry over yrs  after all the disruptions and lost gigs thx to their service im moving to apple iphone 0.9965893\n",
      "Yessss Im lovin the iPhone update especially the slide down bar at top of screen  good job Apple 0.8298821\n",
      " millions in a weekend  iPhoneS per second This is madness no this is Apple  0.99632895\n",
      "apple you got me Im now invested MacBook Pro next year Time to get on selling more of my android gear 0.97525746\n",
      "I just sent my grandma a post card using my CardsApp thanks Apple 0.9165435\n",
      "Laundering Aris iPhone not my finest moment But after drying in bag of organic  rice for  days it booted up apple 0.98381567\n",
      "God Bless YouTube apple for  appletv  our bad ass system LOVING PrincessOfChina GB to coldplay  rihanna too  0.98457694\n",
      "Updated my iOS and started using cloud services Pretty bad ass apple my iPhone GS still the champ 0.99867076\n",
      "SO to apple for replacing my phone for free  0.99426824\n",
      "RT tomkeene Thx instagram Thx apple hypo D trix httptcoBPPJwncp 0.9895907\n",
      "SteveJobs being honored tonite AppleA truly great loss to the worldHe will so be missed 0.9993907\n",
      "Thx instagram Thx apple hypo D trix httptcoDEeJHBT 0.99436456\n",
      "rygurl you need an apple iphoneS with Siri 0.9843432\n",
      "just my man apple store in schaumburg whoops  0.9926922\n",
      "So I am using my work PC NEVER EVER to get a feel for it it has the worst speakers ever apple you have spoiled me imamac 0.9995479\n",
      "I   Apple httptcoaonIAa 0.98471856\n",
      "apple just got the new iOS upgrade with iMessagegood luck surviving now BlackBerry 0.9688723\n",
      "blackberry boo hissapple wuhu When will my berry powered technology actually work 0.99812794\n",
      "Apples Siri is witchcraft  Whats next googleresearch  yr lead lost 0.9996434\n",
      "I lt apple httptcoondXWpEr 0.9887261\n",
      "My iPhone S battery lasted longer than a day That hasnt happened since my edge iPhone Nice job apple 0.9879792\n",
      "RickySinghPT got a new backside for my eye phone V impressed with apple 0.6400078\n",
      "ibertaddigitaltv iPad a briliant SteveJobs produck httptcoohfLY Apple present httptcoDBbWSDpx 0.98722136\n",
      "apple iOS  upgrade done  Much better feature Few more feature required 0.9845975\n",
      "Finally got my iPhone S thanks Apple Stupid att Learned my lesson 0.9786671\n",
      "dammit listening to siri is making me want to upgrade well played apple 0.9803816\n",
      "Video card on Kimaris workstation died after just six months So long hp Hello apple 0.9988937\n",
      "Blackberry  Facebook U R really about to make me throw this Blackberry in the trash an get an Apple iPhone Facebook upload issues 0.9996276\n",
      "RT Tone apple thanks for fixing this httptcowTjogDO 0.96399593\n",
      "apple thanks for fixing this httptcowTjogDO 0.68105906\n",
      "Mad props to the apple employee that didnt charge me to replace the back plate on my iPhone Made my day 0.9980726\n",
      "Took me months to decide but tonight I have chosen google over Amazon S for image storage solution 0.99549043\n",
      "RT spacecanard Todays the Day ICS lt android google samsung 0.84535724\n",
      "Cant build a website Get a Google website Free  httptcoqUyuOU 0.99676603\n",
      "Android ICS is looking pretty good Not quite sure if its worth the  numbering leap google 0.98461646\n",
      "RT pj Android  Ice Cream Sandwich is Here with a Google Nexus in new Avtar   httptcoMTutGx   android google nexus BigMAMA 0.9875226\n",
      "Me too RT MohamedG Exciting day Its Ice cream Sandwich day  Google Android 0.99381024\n",
      "Google Me 0.77219564\n",
      "Android  Ice Cream Sandwich is Here with a Google Nexus in new Avtar   httptcomSWXEo   android google nexus BigMAMA 0.9896849\n",
      "Blaze I was referring to Google  Icecreamsandwich It looks amazing What imo android was missing I  httptcorEnLZgI 0.9924081\n",
      "httptcoQVmUn Forget the phone Nice UI Liking the Scroll Feature android google nexus 0.9969849\n",
      "google Finally All searches for logged in users will be on https httptcoRaUeRrtF 0.99360156\n",
      "RIM should really take an in debt look at Googles strategy They released the NDK for Icecreamsandwich  HOURS after release ics 0.9957581\n",
      "RT vattam Man Ive fallen in love with Galaxy Nexus google samsung galaxynexus android 0.7061355\n",
      "When in doubt Google it 0.98472595\n",
      "GReader Share Five Reasons Why Google is Winning the War in Photosharing  httptcocoQCLbR  photography fotografia google 0.927936\n",
      "RT Assim Dear Google I want the Galaxy Nexus NOW Please send it to me by email or something  I know you have the technology 0.768859\n",
      "RT shagorikah Telegraph reports that the biggest threat to facebook is its power users have shifted to twitter or google httpt  0.99791217\n",
      "Sorry Apple Google and Samsung just made you look bad Android is king 0.9997817\n",
      "Telegraph reports that the biggest threat to facebook is its power users have shifted to twitter or google httptcoJHdTYKCV 0.9992665\n",
      "Facebook power users have gone to Google and Twitter  Telegraph httptcovwCiOvf Who are they socialmedia 0.9901144\n",
      "Video Google wallet see the wow effect httptcomcWVtG 0.93220925\n",
      "When Im about to tweet something and I cant remember how to spell I go straight to Google 0.9945428\n",
      "Maybe not the most efficient way to browse but fun Google releases an Infinite Digital Bookcase httptcoXqzeXf by MeghanKel 0.8798594\n",
      "jowyang its difficult to pass up google considering the social seo benefits of google vs facebook 0.9985573\n",
      "Ice Cream Sandwich to stop carriers bullying smartphone users google android httptcoBZNyNn 0.95946383\n"
     ]
    },
    {
     "name": "stdout",
     "output_type": "stream",
     "text": [
      "httptcoPlZeEvH  Ice Cream Sandwich to stop carriers bullying smartphone users google android httptcoBgKiMGJF 0.98072165\n",
      "The next Google Nexus phone is here httptcoedSwoXoC 0.9941165\n",
      "Google Earth Helps Locate Salmonella Hotspots httptcomczRSDf google 0.87615585\n",
      "ThingsWeAllHate that person that acts like they know every fucking thing bitch you not Google 0.9963843\n",
      "samsung galaxy nexus  orbital laser apple iphone s  wooden stick google 0.99747604\n",
      "want httptcosrbmVK Google Nexus Samsung Galaxy 0.990967\n",
      "Ice Cream Sandwich u r really delicious Can ditch iPhone for u thats for sure Google launches Android aka IceCreamSandwich  0.98056746\n",
      "RT RoycinD FINALLY  Power  Volume  Screenshot No more rooting required Google ICS galaxynexus 0.9702824\n",
      "I want the new google galaxynexus Android  is going to be the fucks 0.99957883\n",
      "Google Nexus press conference httptcoWVov slick 0.8170986\n",
      "Googles IceCreamSandwich was revealed Im getting an Android whenever I get a new phone but Im keeping my iPhone for now 0.9943173\n",
      "Cant wait for Ice Cream Sandwich httptcoRtDzjqU android google 0.9881906\n",
      "i need a hookup stop teasing me google httptcoYRwL i want the new nexus 0.994938\n",
      "wellgoogles icecreamsandwich and new accompanying phone are as usual neat but nothing groundbreaking 0.99785215\n",
      "Android Google Device Frame Generator Updated For Galaxy Nexus  Your Screenshots Just Got Prettier httptcobWtWz DhilipSiva 0.9706544\n",
      "IceCreamSandwich went way and beyond what I expected Cant wait to get it on my Nexus to play with Google 0.90734845\n",
      "Cream on the inside clean on the outside Ice Cream phone job Google 0.97925466\n",
      "Googles like my wife  searches things for me and completes my sentences 0.95807236\n",
      "httptcoIzhKaiU google nexus prime lt android 0.9650716\n",
      "google is my bff rite about now 0.958714\n",
      "have to finish faster the only way is to google it google D 0.99925494\n",
      "Iphone s almost had me  ALMOST  Ice Cream Sandwich FTW  httptcopEhduq android google 0.99365807\n",
      "RT Sarahhhhh xmascarroll Yeah I got skype and google and twitter so who needs facebook 0.94813305\n",
      "There you go  according to httptcoYaSzz Google is builtin to the OSNexus line Smart move  0.9791519\n",
      "I just add my profile on the Google WebGL Globe project Add yours  httptcoUWeYalKb via AddThis 0.99343413\n",
      "Thanks Android for admitting youre ugly New font is a good start ics google 0.56794375\n",
      "Im so ready for Ice Cream Sandwich ICS Nexus Google Android SiriWho httptcoCjonncvk GetGlue Android 0.99300396\n",
      "Mmmm Ice Cream Sandwich Android Google 0.92961305\n",
      "RT YashasJoshi android   Ice Cream Sandwich will now make all other smartphone operating systems look outdated  Androidbeam Wo  0.99973947\n",
      "The new android Nexus phone makes the iPhone look like a cheap toy at dollar store tcot android google RealEstate Burkepatch 0.9994366\n",
      "Sweet Ice Cream Sandwich RT Pocketlint Google Android  Ice Cream Sandwich officially detailed google ics httptcoiUYDFS 0.9328604\n",
      "SamsungMobileCA Raise your hand if you now want an Android IceCreamSandwich powered GALAXYNexus phone Google SamsungI do 0.9757786\n",
      "Siri which Android device should I replace my iPhone with Apple vs Google 0.9976908\n",
      "The new Google Nexus page is live  httptcozrqoeWxI nexus google android icecreamsandwich 0.99151963\n",
      "RT SebasCoulombe Thanks to Samsung and Google Im now craving for some Ice Cream Sandwich   IceCreamSandwich Google Samsung 0.9944264\n",
      "So glad Google adopted a design philosophy for Android  aka It shows soooo much This is the polish Ive been waiting for 0.94336456\n",
      "Register now for your Galaxy Nexus  httptcoWkIoXC Android Google 0.98438543\n",
      "Google  Samsung  Perfect Icecream sandwich GalaxyNexus 0.7329755\n",
      "Thanks to Samsung and Google Im now craving for some Ice Cream Sandwich   IceCreamSandwich Google Samsung 0.9893229\n",
      "ICS is Sick good work google team 0.51475513\n",
      "I gotta say Googles got some pretty catchy advertisements for Android and Chrome google android 0.88404995\n",
      "jessecablek I want it too Now just wondering who will be carrying it in November Or direct purchase from google  samsung 0.99749964\n",
      "Well the event is now over time to change my pants Google Android Samsung Jizz 0.98978716\n",
      "RT ThatTechGuy LITERALLY HAD MY MIND BLOWN AWAY JUST NOW Google Samsung 0.9988983\n",
      "GO GO GO Ice Cream Sandwich developers Android SDK r is LIVE  httptcoOeUrmtLX Google 0.9876041\n",
      "android   Ice Cream Sandwich will now make all other smartphone operating systems look outdated  Androidbeam Wowww  google 0.9997198\n",
      "Galaxy Nexus  Google Android Samsung  the dream team  httptcoRjuJSBr 0.9482729\n",
      "yumyumyumI want Ice Cream Sandwich google android 0.97762114\n",
      "Soon Getting ready for the party google android icecreamsandwich httptcoeZjCzLt 0.99529535\n",
      "RT SamsungMobileCA Raise your hand if you now want an Android IceCreamSandwich powered GALAXYNexus phone Google Samsung 0.97893536\n",
      "All this talk about about how good icecreamsandwich looks is making me hungry google omnomnomnom 0.9956903\n",
      "O M G Google is nuts with ICS and this new phone 0.99405915\n",
      "iPhone users find the nearest trash for your device its the correct place  Android Apple Google iPhone 0.99858654\n",
      "Google  Samsung Galaxy Nexus ICS press release is now done Ill go back to my regular tweeting intervals now  I WANT IT 0.9974392\n",
      "Raise your hand if you now want an Android IceCreamSandwich powered GALAXYNexus phone Google Samsung 0.9753314\n",
      "Ready for some Ice Cream Sandwich google android 0.98105687\n",
      "LITERALLY HAD MY MIND BLOWN AWAY JUST NOW Google Samsung 0.99467015\n",
      "iphone users i reaaly feel sorry for you after i saw icecream sandwich Android today Google apple Android iPhone 0.99871254\n",
      "I cannot wait for a new ICS phone Google android 0.9944287\n",
      "OMG the Android  SDK is available NOW  httptcoOeUrmtLX Google 0.9944834\n",
      "The new Samsungnexus and  OS make the iPhones look like an old bag phone Nice job Google and Samsung 0.94424194\n",
      "Calling all marketing executives in houston  sign up for google training  httptcovoMrZ  I cant wait to be there for the week 0.98856443\n",
      "Slick beam capabilities included in Android  Touch  devices together and select Beam and content is transferred Google Android ICS 0.7524322\n",
      "really digging the UI of of Quick Response from Google android great for politely declining calls lol 0.9918357\n",
      "goodbye Bump  Google ICS 0.99617666\n",
      "WPdesignteam joebelfiore windowsphone  You guys just taught Google Android how to design a decent phone So much Metro Good Job guys 0.67869765\n",
      "google icecreamsandwich totally blowing Apple iShit away 0.99964243\n",
      "NerdBoner in full effect Watching Samsung Google NexusPrime IceCreamSandwich live event httptcoRkkPHss 0.9620779\n",
      "Google has done it again  IceCream Sandwich 0.99068826\n",
      "New contact app builds on a magazine style layout and aggregates contact info from multiple sources Very slick Google Android ICS 0.7364612\n",
      "RT RespectMaSwagg ThingsWeAllLove gtgt Google 0.980535\n",
      "I want some of these google toys 0.989614\n",
      "Better gallery app to be included with Android  as well Google Android ICS 0.7486687\n",
      "Android  FINALLY includes photo editing tools Google Android ICS 0.96177846\n",
      "New Galaxy Nexus OS Hardware Improvements   Camera Zero Shutter Lag nexus samsung google android bitlynEJbyE 0.98387223\n",
      "RT Mrgareth Top Three playing nice scores were Google Salesforce and Xero in itnewsau Which Clouds Play Nice report http  0.8972749\n",
      "Unbelievable Data Usage info on Ice Cream Sandwich  icecreamsandwich googland google android ics 0.99817973\n",
      "Data usage in ICS Looks like I dont need Watchdog G Pro anymore hah Android ICS Google 0.9983654\n",
      "New Galaxy Nexus OS Improvements   Data Usage tools inbuilt nexus samsung google android bitlynEJbyE 0.84076697\n",
      "Google Android Icecream Sandwich OS for Nexus Prime Released LIVE BLOG  httptcoLFZKUz technology hk 0.9865522\n",
      "New Galaxy Nexus App Improvements  Gmail  offline search of last  days  nexus samsung google android bitlynEJbyE 0.9735637\n",
      "Thank god Gmail app has been redesigned under Android  Conversations automatically expanded Google Android ICS 0.98399264\n",
      "Seriously Why do I still find the yellow pages ph book at my doorstep These days I just google it on my iphone 0.99661976\n",
      "The Samsung Galaxy Nexus and Ice Cream Sandwich are sick android icecreamsandwich google 0.9992447\n",
      "I cant wait to get the new Galaxy Nexus with IceCreamSandwich best yet it supports my Google Wallet httptcobqMuHxkK via cnet 0.990932\n"
     ]
    },
    {
     "name": "stdout",
     "output_type": "stream",
     "text": [
      "New Galaxy Nexus OS Improvements   Built on Ice Cream Sandwich version of Android nexus samsung google android bitlynEJbyE 0.9777516\n",
      "New Galaxy Nexus OS Improvements   Stacks  Scrolling introduced for widgets  for richer content samsung google android bitlynEJbyE 0.8661505\n",
      "Just participated in another Microsoft SQLServer certification test with TSQL typing instead of multiple choices Really cool 0.9987724\n",
      "Windows Phone  Mango Update Process Ahead of Schedule httptcophwox  Microsoft WindowsPhone Mango 0.96613747\n",
      "WP is getting there Microsoft Claws Back to Smartphone Relevance Rich Jaroslovsky  Bloomberg httptcoJIMMLRC via BloombergNews 0.97745883\n",
      "RT Logic Why I love Microsoft gt Microsoft hosting Kids TechFest to encourage careers in tech  httptcofmzFWgYv babygeeks   0.85866964\n",
      "Microsoft word works on my computer again Yessss 0.96161425\n",
      "Microsoft dishing out free firstgen WP handsets at its stores httptcocvfWMvmO 0.9985913\n",
      "Microsoft details Search improvements in Windows  Start Screen httptcoAgvznJ 0.6369224\n",
      "Microsoft Stores offer up free Windows Phone  devices microsoft microsoftstores Microsofts retail stores ar httptcorRndNY 0.9905211\n",
      "Microsoft Stores offer up free Windows Phone  devices microsoft microsoftstores httptcoxoLRaueY microsoft 0.98891264\n",
      "Microsoft Stores offer up free Windows Phone  devices microsoft microsoftstores httptcoFHwANQ 0.98925626\n",
      "Microsoft Stores offer up free Windows Phone  devices microsoft microsoftstores httptcoYvJMHnQ 0.98732346\n",
      "Microsoft Stores offer up free Windows Phone  devices microsoft microsoftstores httptcohJqlOC neowin 0.9908805\n",
      "Microsoft Stores offer up free Windows Phone  devices microsoft microsoftstores httptcoBpFKydO 0.9880705\n",
      "Microsoft store here I come to spend my hard earned cash vslive 0.9976756\n",
      "If you didnt know  Free Microsoft HTML Webcamps on West Coast MountainView Redmond Portland check them out  httptcoLOWQRE 0.99688554\n",
      "Hey parentsDid you know about the free tools from Microsoft that help keep your kids safe onlineLive Family Safety httptcopketr 0.99077004\n",
      "Microsoft Cloud Microsoft offers students free access to its technologies to improve employability Dubbe httptcorGBHHUQP TCN 0.94925815\n",
      "Microsoft details Windows  search improvements  via SlashGear httptcoJCawWRzQ 0.9521717\n",
      "Cant wait until I can visit the holodeck Thanks for sharing RT karljuhlke Beam me up Microsoft Microsoft has httptcoZGbkxnK 0.97057915\n",
      "Why I love Microsoft gt Microsoft hosting Kids TechFest to encourage careers in tech  httptcofmzFWgYv babygeeks via Techflash 0.7814555\n",
      "Microsoft explains new improvements in Windows  Start screen search httptcocxovkWW buildingwindows buildwindows tech microsoft 0.8373378\n",
      "Microsoft explains new improvements in Windows  Start screen search httptcopqGRra buildingwindows buildwindows tech microsoft 0.8729895\n",
      "The Future of Information Innovators from Google Microsoft Twitter  Nov   Info  registration at httptcokJKZZy UMD 0.9788367\n",
      "This is how charity works these days httptcoklkFH billgates philanthropy microsoft 0.90967774\n",
      "Ballmer Thinks You Have To Be A Computer Scientist To Use Android httptcoVKVTBcj tech microsoft i agree to some extent 0.99562675\n",
      "RT ralphbin Microsoft Research shows Holodesk  looks like science fiction but is science fact httptcowOCrbpm  Cool but  no sound 0.99832493\n",
      "Microsoft Research shows Holodesk  looks like science fiction but is science fact httptcovvltkYp 0.98949754\n",
      "Zune Music arrives in Canada httptcoCJJvI microsoft music news 0.9777944\n",
      "H per microsoft lager ny releasepartyguide for mango greatsuccess 0.99248403\n",
      "Hey parents Did you know about the free tools from Microsoft that help keep your kids safe online Live Family Safety httptcomuuWbGPn 0.98888314\n",
      "Maybe apple could use some of its billions to do some good in the worldoh wait thats what microsoft does 0.9991147\n",
      "Microsoft tries to combine the Xbox WindowsPhone and PC and all of them will share the same neat looking interface httptcoJzfpO 0.99784416\n",
      "Forget Siri there is still no beating speech commands on windowsphone httptcoGAjSGi wp mango tellme microsoft siri 0.9970894\n",
      "Microsoft tests and proves AppSense enterprise scalability K users on one personalization DB  httptcoxtZMPSMT enterprise 0.9781908\n",
      "RADSoftware Yes good points about ERP but unfair assessment in saying SAGE SAP and Microsoft Dynamics are not delivering 0.9991735\n",
      "edbott you have sugarcoated the FSF secure boot reaction This is blatant antiMicrosoft propaganda 0.99955404\n",
      "V impressed w Image Composite Editor from MSFTresearch for creating panoramas from individual images httptcoSOWspn Tx Microsoft 0.71370685\n",
      "RT franmac I have been blown away by technological innovations microsoft should do more marketing 0.99973667\n",
      "I have been blown away by technological innovations microsoft should do more marketing 0.99974465\n",
      "RT asherCFO Yahoo up  sale  again Yrs back Microsoft almost bought it  now glad it didnt This could b deal of the year that do  0.9935325\n",
      "Yahoo up  sale  again Yrs back Microsoft almost bought it  now glad it didnt This could b deal of the year that dosent happen 0.9926283\n",
      "Is Google Down httptcowFrzKYsN via Ejunkie Good for Bing Microsoft  s investments paying off 0.9983082\n",
      "RT bestpantsTen httptcoPmxvaz iPads less desired than Windows tablets says study Apple Microsoft MS 0.99833673\n",
      "Microsoft details Search improvements in Windows  Start Screen httptcofAztiaD 0.9013852\n",
      "one more picture of the services provided in the cloud I am in love with Microsoft httptcoQQLeokZ 0.5949208\n",
      "Windows Runtime and NET Better Together httptcozBBJxU dotnet dev WinRT microsoft 0.99425\n",
      "windowsphone wp Microsoft really google  httptcovIhtJRr  icecreamsandwichfail innovation by imitation sad sad 0.99479246\n",
      "Wow android ics lots of uh uh uh uh talk going on forsure not a microsoft mango launch were people have public speaking skills 0.8595606\n",
      " Take Off Make up    Say A Little More On twitter    Go to Sleep lt  like my plan 0.98362756\n",
      "OkayI feel slightly more connected to the world and have put facebook and twitter on my blackberryits not the samebut it helps 0.9848838\n",
      "lovegurub i miss my twitter boo 0.9934344\n",
      "singing everytime  I  try  to leave something keeps  pulling me  back  me  back telling me  I  need  Twitter  all that lol   0.9790323\n",
      "ammmylewis Did CarsonFratus just ditch Twitter for sleep Weirdo TwittergtSleep 0.9993209\n",
      "Im starting to get really concerned sending hashtags in emails P twitter is taking over our lives D 0.99492943\n",
      "I cnt get over that shit lol hell naw Twitter 0.99716365\n",
      "Twitter gt Facebook 0.7058854\n",
      "Ive pretty much abandoned Facebook for Twitter twitterslegit 0.99963117\n",
      "Gotta love Twitter  shit goes round the World like lightningonspeed 0.5677628\n",
      "When I say Im going to bed that really means Im gonna sit on twitter for  min then go to bed Twitterlt 0.86769885\n",
      "Dear Twitter I fucking missed you today gtgt internet was down  0.9997344\n",
      "GarrWilliams isnt this place great  twitter 0.8311997\n",
      "RT MattMarcheski AlexMufferi twittergtfacebook 0.6795806\n",
      "There is no social media without Twitter Who could be Twitterless 0.94101524\n",
      "AlexMufferi twittergtfacebook 0.848492\n",
      "Guess Im addicted to Twitter Writing the answers to  marks University exam questions in less than  characters P 0.99833506\n",
      "SusanFelicity One really good thing with twitter is that most people appear to be on the progressive left social side This scares gov 0.7591177\n",
      "Laying down on my bed and Im on my favorite app twitternation twitter gt facebook 0.9597653\n",
      "TheMarketaire This whole Facebook change makes more nervous than excited What about privacy etc I much prefer Twitter 0.99336594\n",
      "Twitter lt 0.7554103\n",
      "fuck that facebook bullshit twitter bitch 0.9992855\n",
      "FUCK facebook twitter is way better teamfollowback followme 0.99734855\n",
      "Havent been on this Twitter shit in a while man Here because looks like AboutThatLife be haven hella fun on Twitter 0.97794604\n",
      "twitter just helped me find the song from the end of a TV show i just watched Twitter gt  0.981794\n",
      "twitter addict  0.9907561\n",
      "RT drewbezanson You can literally go back and forth between Facebook twitter text and email all do technology is too good 0.84356505\n",
      "But fb still sucks amp twitter beats it anyday 0.9965305\n",
      "This twitter shit is funny and entertaining  I havent did shit all day but my fingers are hurting twitter 0.9741561\n"
     ]
    },
    {
     "name": "stdout",
     "output_type": "stream",
     "text": [
      "RT TreyHob twitter gives everyone that voice that they believe should be heard by people unlike real life lol 0.5320268\n",
      "sciencealex hashtags are used here twittergtfacebook 0.9814957\n",
      "I keep forgettin how much i really like Twitter lol 0.93705934\n",
      "RT ahhfuckitsguss twitter can be so useful on letting out your feeling when you cant in the real world  0.5443986\n",
      "My  biggest obsessions twitter dancemoms and desperatehousewives lt 0.9854189\n",
      "twitter is jumpin as usual  0.9758615\n",
      "My Facebook messed up and I had to make a new one so add me Haha at least twitter is reliable 0.96356076\n",
      "qwerty\n",
      "good article about why apple fucked it all up with lion and their future httptcozNDPVr fb 0.9951934\n",
      "LisaMarie shhhh the evil sith lords apple may hear you ha 0.7853732\n",
      "Love apple downloads  hours and ipad now wonky ripstevejobs thenonsensepersists neednewipadguide fatfuckingchance 0.5571079\n",
      "Interesting apple now requires you to have a reservation          apple iphone S      httptcozZKfTii 0.65282446\n",
      "DontBeMadAtMeBecause Android is by far better than Apple 0.9167187\n",
      "apple iphone Please deliver my daughters is she is driving me nuts iphone 0.99682814\n",
      "hailfire Irvysan They are then apple happened and snatched Siri so they could be douchebags and say its ours 0.90422463\n",
      "betweensundays Ah Yeahshould be an optionhopefully apple figures that out Thx 0.95504546\n",
      "Just searching with my voice on my  year old nexus one apple 0.7033743\n",
      "appleupdates  success stories iPhone  iPad  Now been on phone to Apple  mins iPad  WILL not Wasting my time  apple Replaceit 0.9694202\n",
      "what is going on with all my Apple products First my iPad freezes still is frozen and then my iPhone wont turn on techieTroubles 0.92135143\n",
      "Dear apple please send me my Mac Book back surely the repair is done by now Thanks 0.98198044\n",
      "Is it me or does iPhones run a little warm sometimes apple 0.94718754\n",
      "apple cu 0.9447651\n",
      "total time on the phone with apple  hour  minutes lets see how this goes 0.7137427\n",
      "DAMN YOU  apple 0.97523206\n",
      "Ice cream sandwich really google 0.9478873\n",
      "dear google  samsung learn some presentation  first please 0.8911271\n",
      "The Google guys are illustrating the perils of a live demonstration admirably GalaxyNexus ICS Android 0.99924415\n",
      "Great time to be a family Microsoft advertising enrages me Again httptcopYTvKRP 0.9984225\n",
      "I am quickly falling in love with Apple iCloud Finally a webbased solution to wave my old Microsoft Outlook byebye 0.7432213\n",
      "httptcoPUJYVc With friends like Billgates and steveballmet at microsoft who needs enemies  0.82142633\n",
      "I did the best of everyone who failed  Bill Gate Microsoft 0.99318194\n",
      "Is the sound of compliments that sound more like obituaries microsoft 0.9951352\n",
      "Twitter is Fawkin up 0.8620101\n",
      "My Twitter acting funnyyyyyyy 0.9849481\n"
     ]
    }
   ],
   "source": [
    "l=[]\n",
    "for i in range(len(pos)):\n",
    "    k = pos['text'][i]\n",
    "    b=nlp(k)[0]\n",
    "    a=b['label']\n",
    "    if a==\"NEGATIVE\":\n",
    "        print(k,b['score'])\n",
    "    l.append(a)\n",
    "print(\"qwerty\")\n",
    "m = []\n",
    "for i in range(len(neg)):\n",
    "    k = neg['text'][i]\n",
    "    b=nlp(k)[0]\n",
    "    a=b['label']\n",
    "    if a==\"POSITIVE\":\n",
    "        print(k,b['score'])\n",
    "    m.append(a)"
   ]
  },
  {
   "cell_type": "code",
   "execution_count": 15,
   "metadata": {},
   "outputs": [
    {
     "data": {
      "text/plain": [
       "285"
      ]
     },
     "execution_count": 15,
     "metadata": {},
     "output_type": "execute_result"
    }
   ],
   "source": [
    "l.count('NEGATIVE')+m.count(\"POSITIVE\")"
   ]
  },
  {
   "cell_type": "code",
   "execution_count": 11,
   "metadata": {},
   "outputs": [
    {
     "data": {
      "text/plain": [
       "231"
      ]
     },
     "execution_count": 11,
     "metadata": {},
     "output_type": "execute_result"
    }
   ],
   "source": [
    "l.count('NEGATIVE')"
   ]
  },
  {
   "cell_type": "code",
   "execution_count": null,
   "metadata": {},
   "outputs": [],
   "source": [
    "l = []\n",
    "for i in range(len(pos)):\n",
    "    k = pos['TweetText'][i]\n",
    "    params = {\"query\" : k}\n",
    "    r = requests.get(url, params)\n",
    "    r=r.json()\n",
    "    l.append(r['prediction'])\n",
    "print(\"qwerty\")\n",
    "m = []\n",
    "for i in range(len(neg)):\n",
    "    k = neg['TweetText'][i]\n",
    "    params = {\"query\" : k}\n",
    "    r = requests.get(url, params)\n",
    "    r=r.json()\n",
    "    m.append(r['prediction'])"
   ]
  }
 ],
 "metadata": {
  "kernelspec": {
   "display_name": "Python 3",
   "language": "python",
   "name": "python3"
  },
  "language_info": {
   "codemirror_mode": {
    "name": "ipython",
    "version": 3
   },
   "file_extension": ".py",
   "mimetype": "text/x-python",
   "name": "python",
   "nbconvert_exporter": "python",
   "pygments_lexer": "ipython3",
   "version": "3.6.10"
  }
 },
 "nbformat": 4,
 "nbformat_minor": 4
}
